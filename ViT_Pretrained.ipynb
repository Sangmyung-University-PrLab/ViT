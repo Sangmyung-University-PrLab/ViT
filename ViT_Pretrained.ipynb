{
  "nbformat": 4,
  "nbformat_minor": 0,
  "metadata": {
    "colab": {
      "name": "ViT_Pretrained.ipynb",
      "provenance": []
    },
    "kernelspec": {
      "name": "python3",
      "display_name": "Python 3"
    },
    "language_info": {
      "name": "python"
    },
    "accelerator": "GPU"
  },
  "cells": [
    {
      "cell_type": "code",
      "source": [
        "!pip install einops"
      ],
      "metadata": {
        "colab": {
          "base_uri": "https://localhost:8080/"
        },
        "id": "JsGDPhGuPl9u",
        "outputId": "ea0fd7da-3cb4-4d9e-eb33-3cd6aec3f476"
      },
      "execution_count": null,
      "outputs": [
        {
          "output_type": "stream",
          "name": "stdout",
          "text": [
            "Requirement already satisfied: einops in /usr/local/lib/python3.7/dist-packages (0.4.0)\n"
          ]
        }
      ]
    },
    {
      "cell_type": "code",
      "execution_count": null,
      "metadata": {
        "id": "usLAaAvpL5tV"
      },
      "outputs": [],
      "source": [
        "import torch\n",
        "import torch.nn as nn\n",
        "import torch.nn.functional as F\n",
        "import torch.optim as optim\n",
        "import numpy as np\n",
        "import einops\n",
        "import torchvision.transforms as transforms\n",
        "import imageio\n",
        "import cv2\n",
        "import matplotlib.pyplot as plt\n",
        "\n",
        "from tqdm import tqdm\n",
        "from torchvision.datasets import ImageFolder\n",
        "from google.colab import drive\n",
        "from torchvision.datasets import DatasetFolder\n",
        "from torch.autograd import Variable\n",
        "from torch.utils.data import DataLoader\n",
        "from torchvision.datasets import CIFAR10\n",
        "from torch.utils import model_zoo\n",
        "from scipy.ndimage import zoom\n",
        "from torchsummary import summary"
      ]
    },
    {
      "cell_type": "code",
      "source": [
        "drive.mount('/gdrive',force_remount=True)"
      ],
      "metadata": {
        "colab": {
          "base_uri": "https://localhost:8080/"
        },
        "id": "mEbZaYouyALQ",
        "outputId": "10ae587f-e1f8-4a5d-afc6-441da8e64906"
      },
      "execution_count": null,
      "outputs": [
        {
          "output_type": "stream",
          "name": "stdout",
          "text": [
            "Mounted at /gdrive\n"
          ]
        }
      ]
    },
    {
      "cell_type": "code",
      "source": [
        "def get_base_config():\n",
        "    \"\"\"Base ViT config ViT\"\"\"\n",
        "    return dict(\n",
        "      dim=768,\n",
        "      ff_dim=3072,\n",
        "      num_heads=12,\n",
        "      num_layers=12,\n",
        "      attention_dropout_rate=0.0,\n",
        "      dropout_rate=0.1,\n",
        "      representation_size=768,\n",
        "      classifier='token'\n",
        "    )\n",
        "\n",
        "def get_b16_config():\n",
        "    \"\"\"Returns the ViT-B/16 configuration.\"\"\"\n",
        "    config = get_base_config()\n",
        "    config.update(dict(patches=(16, 16)))\n",
        "    return config\n",
        "\n",
        "def get_b32_config():\n",
        "    \"\"\"Returns the ViT-B/32 configuration.\"\"\"\n",
        "    config = get_b16_config()\n",
        "    config.update(dict(patches=(32, 32)))\n",
        "    return config\n",
        "\n",
        "def get_l16_config():\n",
        "    \"\"\"Returns the ViT-L/16 configuration.\"\"\"\n",
        "    config = get_base_config()\n",
        "    config.update(dict(\n",
        "        patches=(16, 16),\n",
        "        dim=1024,\n",
        "        ff_dim=4096,\n",
        "        num_heads=16,\n",
        "        num_layers=24,\n",
        "        attention_dropout_rate=0.0,\n",
        "        dropout_rate=0.1,\n",
        "        representation_size=1024\n",
        "    ))\n",
        "    return config\n",
        "\n",
        "def get_l32_config():\n",
        "    \"\"\"Returns the ViT-L/32 configuration.\"\"\"\n",
        "    config = get_l16_config()\n",
        "    config.update(dict(patches=(32, 32)))\n",
        "    return config\n",
        "\n",
        "def drop_head_variant(config):\n",
        "    config.update(dict(representation_size=None))\n",
        "    return config\n",
        "\n",
        "\n",
        "PRETRAINED_MODELS = {\n",
        "    'B_16': {\n",
        "      'config': get_b16_config(),\n",
        "      'num_classes': 21843,\n",
        "      'image_size': (224, 224),\n",
        "      'url': \"https://github.com/lukemelas/PyTorch-Pretrained-ViT/releases/download/0.0.2/B_16.pth\"\n",
        "    },\n",
        "    'B_32': {\n",
        "      'config': get_b32_config(),\n",
        "      'num_classes': 21843,\n",
        "      'image_size': (224, 224),\n",
        "      'url': \"https://github.com/lukemelas/PyTorch-Pretrained-ViT/releases/download/0.0.2/B_32.pth\"\n",
        "    },\n",
        "    'L_16': {\n",
        "      'config': get_l16_config(),\n",
        "      'num_classes': 21843,\n",
        "      'image_size': (224, 224),\n",
        "      'url': None\n",
        "    },\n",
        "    'L_32': {\n",
        "      'config': get_l32_config(),\n",
        "      'num_classes': 21843,\n",
        "      'image_size': (224, 224),\n",
        "      'url': \"https://github.com/lukemelas/PyTorch-Pretrained-ViT/releases/download/0.0.2/L_32.pth\"\n",
        "    },\n",
        "    'B_16_imagenet1k': {\n",
        "      'config': drop_head_variant(get_b16_config()),\n",
        "      'num_classes': 1000,\n",
        "      'image_size': (384, 384),\n",
        "      'url': \"https://github.com/lukemelas/PyTorch-Pretrained-ViT/releases/download/0.0.2/B_16_imagenet1k.pth\"\n",
        "    },\n",
        "    'B_32_imagenet1k': {\n",
        "      'config': drop_head_variant(get_b32_config()),\n",
        "      'num_classes': 1000,\n",
        "      'image_size': (384, 384),\n",
        "      'url': \"https://github.com/lukemelas/PyTorch-Pretrained-ViT/releases/download/0.0.2/B_32_imagenet1k.pth\"\n",
        "    },\n",
        "    'L_16_imagenet1k': {\n",
        "      'config': drop_head_variant(get_l16_config()),\n",
        "      'num_classes': 1000,\n",
        "      'image_size': (384, 384),\n",
        "      'url': \"https://github.com/lukemelas/PyTorch-Pretrained-ViT/releases/download/0.0.2/L_16_imagenet1k.pth\"\n",
        "    },\n",
        "    'L_32_imagenet1k': {\n",
        "      'config': drop_head_variant(get_l32_config()),\n",
        "      'num_classes': 1000,\n",
        "      'image_size': (384, 384),\n",
        "      'url': \"https://github.com/lukemelas/PyTorch-Pretrained-ViT/releases/download/0.0.2/L_32_imagenet1k.pth\"\n",
        "    },\n",
        "}"
      ],
      "metadata": {
        "id": "rx2amja5g3QX"
      },
      "execution_count": null,
      "outputs": []
    },
    {
      "cell_type": "code",
      "source": [
        "class PositionalEmbedding1D(nn.Module):\n",
        "  def __init__(self,seq_len,dim):\n",
        "    super().__init__()\n",
        "    self.pos_embedding = nn.Parameter(torch.zeros(1,seq_len,dim))\n",
        "\n",
        "  def forward(self,x):\n",
        "    return x + self.pos_embedding"
      ],
      "metadata": {
        "id": "3L6FCdB4NYaO"
      },
      "execution_count": null,
      "outputs": []
    },
    {
      "cell_type": "code",
      "source": [
        "class MultiHeadedSelfAttention(nn.Module):\n",
        "  def __init__(self,dim,num_heads, dropout=0):\n",
        "    super().__init__()\n",
        "    self.proj_q = nn.Linear(dim,dim)\n",
        "    self.proj_k = nn.Linear(dim,dim)\n",
        "    self.proj_v = nn.Linear(dim,dim)\n",
        "    self.drop = nn.Dropout(dropout)\n",
        "    self.n_heads = num_heads\n",
        "    self.scores = None\n",
        "  def forward(self,x,mask=None):\n",
        "    q,k,v = self.proj_q(x),self.proj_k(x),self.proj_v(x)\n",
        "\n",
        "    #(batch,num_patch,head,dim) -> (batch,head,num_patch,dim)\n",
        "    q,k,v = (einops.rearrange(x,'b s (h w) -> b s h w',h = self.n_heads,w=x.shape[-1]//self.n_heads).transpose(1,2) for x in [q, k, v])\n",
        "    #(batch,head,num_patch,num_patch)\n",
        "    scores = torch.einsum('bhqd, bhkd -> bhqk',q,k) / np.sqrt(q.shape[-1])\n",
        "    \n",
        "    if mask is not None:\n",
        "      fill_value = torch.finfo(torch.float32).min\n",
        "      scores.mask_fill(~mask,fill_value)\n",
        "\n",
        "    scores = self.drop(F.softmax(scores,dim=-1))\n",
        "    #(batch,head,num_patch,dim)\n",
        "    out = torch.einsum('bhas, bhsv -> bhav',scores,v)\n",
        "    #(batch,num_patch,emb_size)\n",
        "    out = einops.rearrange(out, 'b h n d -> b n (h d)')\n",
        "    \n",
        "    self.scores = out\n",
        "    return out"
      ],
      "metadata": {
        "id": "wcEsKZ0GNsXt"
      },
      "execution_count": null,
      "outputs": []
    },
    {
      "cell_type": "code",
      "source": [
        "class PositionWiseFeedForward(nn.Module):\n",
        "  def __init__(self,dim,ff_dim):\n",
        "    super().__init__()\n",
        "    self.fc1 = nn.Linear(dim,ff_dim)\n",
        "    self.fc2 = nn.Linear(ff_dim,dim)\n",
        "\n",
        "  def forward(self,x):\n",
        "    return self.fc2(F.gelu(self.fc1(x)))"
      ],
      "metadata": {
        "id": "OZE8ZjSQcOfg"
      },
      "execution_count": null,
      "outputs": []
    },
    {
      "cell_type": "code",
      "source": [
        "class Block(nn.Module):\n",
        "  def __init__(self,dim,num_heads,ff_dim,dropout=0):\n",
        "    super().__init__()\n",
        "    self.attn = MultiHeadedSelfAttention(dim,num_heads,dropout)\n",
        "    self.proj = nn.Linear(dim,dim)\n",
        "    self.norm1 = nn.LayerNorm(dim,eps=1e-6)\n",
        "    self.pwff = PositionWiseFeedForward(dim,ff_dim)\n",
        "    self.norm2 = nn.LayerNorm(dim,eps=1e-6)\n",
        "    self.drop = nn.Dropout(dropout)\n",
        "\n",
        "  def forward(self,x,mask=None):\n",
        "    h = self.drop(self.proj(self.attn(self.norm1(x),mask)))\n",
        "    x = x + h\n",
        "    h = self.drop(self.pwff(self.norm2(x)))\n",
        "    x = x + h\n",
        "\n",
        "    return x"
      ],
      "metadata": {
        "id": "xjse0jQzcnrY"
      },
      "execution_count": null,
      "outputs": []
    },
    {
      "cell_type": "code",
      "source": [
        "class Transformer(nn.Module):\n",
        "  def __init__(self,num_layers, dim, num_heads,ff_dim,dropout=0):\n",
        "    super().__init__()\n",
        "    self.blocks = nn.ModuleList([\n",
        "                                  Block(dim,num_heads,ff_dim,dropout) for _ in range(num_layers)\n",
        "    ])\n",
        "\n",
        "  def forward(self,x,mask=None):\n",
        "    for block in self.blocks:\n",
        "      x = block(x,mask)\n",
        "    return x"
      ],
      "metadata": {
        "id": "hZpwbAhudTea"
      },
      "execution_count": null,
      "outputs": []
    },
    {
      "cell_type": "code",
      "source": [
        "class ViT(nn.Module):\n",
        "  def __init__(self,\n",
        "               name=None,\n",
        "               pretrained=False,\n",
        "               patches=16,\n",
        "               dim=786,\n",
        "               ff_dim=3072,\n",
        "               num_heads=12,\n",
        "               num_layers=12,\n",
        "               attention_dropout_rate = 0.0,\n",
        "               dropout_rate = 0.1,\n",
        "               image_size = 224,\n",
        "               num_classes = 1000,\n",
        "               in_channels = 3):\n",
        "    super().__init__()\n",
        "    if name is not None:\n",
        "      config = PRETRAINED_MODELS[name]['config']\n",
        "      patches = config['patches'][0]\n",
        "      dim = config['dim']\n",
        "      ff_dim = config['ff_dim']\n",
        "      num_heads = config['num_heads']\n",
        "      num_layers = config['num_layers']\n",
        "      attention_dropout_rate = config['attention_dropout_rate']\n",
        "      dropout_rate = config['dropout_rate']\n",
        "    \n",
        "    p = image_size // patches\n",
        "    num_patches = p * p\n",
        "\n",
        "    self.patch_embedding = nn.Conv2d(in_channels,dim,kernel_size=patches,stride=patches)\n",
        "    self.class_token = nn.Parameter(torch.zeros(1,1,dim))\n",
        "    num_patches += 1\n",
        "\n",
        "    self.positional_embedding = PositionalEmbedding1D(num_patches,dim)\n",
        "    self.transformer = Transformer(num_layers,dim,num_heads,ff_dim,dropout_rate)\n",
        "    self.norm = nn.LayerNorm(dim,eps=1e-6)\n",
        "    self.fc = nn.Linear(dim,num_classes)\n",
        "\n",
        "    self.init_weights()\n",
        "    if pretrained:\n",
        "      pretrained_in_channels = 3\n",
        "      pretrained_image_size = PRETRAINED_MODELS[name]['image_size']\n",
        "      pretrained_num_classes = PRETRAINED_MODELS[name]['num_classes']\n",
        "\n",
        "      state_dict = model_zoo.load_url(PRETRAINED_MODELS[name]['url'])\n",
        "\n",
        "      expected_missing_keys = []\n",
        "      if pretrained_in_channels != in_channels and 'patch_embedding.weight' in state_dict:\n",
        "        expected_missing_keys += ['patch_embedding.weight', 'patch_embedding.bias']\n",
        "      if num_classes != pretrained_num_classes and 'fc.weight' in state_dict:\n",
        "        expected_missing_keys += ['fc.weight', 'fc.bias']\n",
        "      for key in expected_missing_keys:\n",
        "        state_dict.pop(key)\n",
        "      if pretrained_image_size != image_size:\n",
        "        posemb = state_dict['positional_embedding.pos_embedding']\n",
        "        posemb_tok,posemb_grid = posemb[:,:1],posemb[0,1:]\n",
        "        old_grid_size = int(np.sqrt(len(posemb_grid)))\n",
        "        new_grid_size = int(np.sqrt(num_patches-1))\n",
        "        posemb_grid = posemb_grid.reshape(old_grid_size,old_grid_size,-1)\n",
        "        zoom_factor = (new_grid_size/old_grid_size, new_grid_size/old_grid_size,1)\n",
        "        posemb_grid = zoom(posemb_grid, zoom_factor,order = 1)\n",
        "        posemb_grid = posemb_grid.reshape(1,(new_grid_size)**2,-1)\n",
        "        posemb_grid = torch.from_numpy(posemb_grid)\n",
        "        posemb = torch.cat([posemb_tok,posemb_grid],dim=1)\n",
        "        state_dict['positional_embedding.pos_embedding'] = posemb\n",
        "\n",
        "      self.load_state_dict(state_dict,strict=False)\n",
        "\n",
        "  @torch.no_grad()\n",
        "  def init_weights(self):\n",
        "    def _init(m):\n",
        "      if isinstance(m,nn.Linear):\n",
        "        nn.init.xavier_uniform_(m.weight)\n",
        "        if hasattr(m,'bias') and m.bias is not None:\n",
        "          nn.init.normal_(m.bias,std=1e-6)\n",
        "    self.apply(_init)\n",
        "    nn.init.constant_(self.fc.weight, 0)\n",
        "    nn.init.constant_(self.fc.bias, 0)\n",
        "    nn.init.normal_(self.positional_embedding.pos_embedding, std=0.02)  # _trunc_normal(self.positional_embedding.pos_embedding, std=0.02)\n",
        "    nn.init.constant_(self.class_token, 0)\n",
        "\n",
        "  def forward(self,x):\n",
        "    out = self.patch_embedding(x)\n",
        "    out = out.reshape(out.shape[0],-1,out.shape[1])\n",
        "    class_tokens = einops.repeat(self.class_token,'() n e -> b n e', b=x.shape[0])\n",
        "    out = torch.cat((class_tokens,out),dim=1)\n",
        "    out = self.positional_embedding(out)\n",
        "    out = self.transformer(out)\n",
        "    out = self.norm(out)[:, 0] #class_token만\n",
        "    out = self.fc(out)\n",
        "\n",
        "    return out"
      ],
      "metadata": {
        "id": "RARiZFapdvYT"
      },
      "execution_count": null,
      "outputs": []
    },
    {
      "cell_type": "code",
      "source": [
        "dataset = ImageFolder('/gdrive/My Drive/brain_tumor_dataset',transform=transforms.Compose([\n",
        "  transforms.Resize((384,384)),\n",
        "  transforms.ToTensor()                                                                                           \n",
        "]))"
      ],
      "metadata": {
        "id": "I0e42Pt8z1Sp"
      },
      "execution_count": null,
      "outputs": []
    },
    {
      "cell_type": "code",
      "source": [
        "train_dataset = list(dataset)[:232]\n",
        "test_dataset = list(dataset)[232:]"
      ],
      "metadata": {
        "id": "2QJh-C0e0kVC"
      },
      "execution_count": null,
      "outputs": []
    },
    {
      "cell_type": "code",
      "source": [
        "train_loader = DataLoader(train_dataset,batch_size=8,drop_last=True, num_workers=4, shuffle=True)\n",
        "test_loader = DataLoader(test_dataset,batch_size=8,drop_last=True, num_workers=4, shuffle=False)"
      ],
      "metadata": {
        "colab": {
          "base_uri": "https://localhost:8080/"
        },
        "id": "cyLQW0IM1t2l",
        "outputId": "f782ab7e-cfd4-43e2-bc2e-7304f6215f8e"
      },
      "execution_count": null,
      "outputs": [
        {
          "output_type": "stream",
          "name": "stderr",
          "text": [
            "/usr/local/lib/python3.7/dist-packages/torch/utils/data/dataloader.py:481: UserWarning: This DataLoader will create 4 worker processes in total. Our suggested max number of worker in current system is 2, which is smaller than what this DataLoader is going to create. Please be aware that excessive worker creation might get DataLoader running slow or even freeze, lower the worker number to avoid potential slowness/freeze if necessary.\n",
            "  cpuset_checked))\n"
          ]
        }
      ]
    },
    {
      "cell_type": "code",
      "source": [
        "print(dataset[0][0].shape)"
      ],
      "metadata": {
        "colab": {
          "base_uri": "https://localhost:8080/"
        },
        "id": "CfG_B9nUxVcb",
        "outputId": "d31968aa-4e86-465b-cf99-05f9f6824940"
      },
      "execution_count": null,
      "outputs": [
        {
          "output_type": "stream",
          "name": "stdout",
          "text": [
            "torch.Size([3, 384, 384])\n"
          ]
        }
      ]
    },
    {
      "cell_type": "code",
      "source": [
        "model_name = 'B_16_imagenet1k'\n",
        "model = ViT(name=model_name,image_size=384,in_channels=3,num_classes=2,pretrained=True).cuda()\n",
        "summary(model,(3,384,384))"
      ],
      "metadata": {
        "colab": {
          "base_uri": "https://localhost:8080/"
        },
        "id": "c72OvBgRQVQw",
        "outputId": "4e11c57b-4f6b-4d4a-c1c7-51863df576ef"
      },
      "execution_count": null,
      "outputs": [
        {
          "output_type": "stream",
          "name": "stdout",
          "text": [
            "----------------------------------------------------------------\n",
            "        Layer (type)               Output Shape         Param #\n",
            "================================================================\n",
            "            Conv2d-1          [-1, 768, 24, 24]         590,592\n",
            "PositionalEmbedding1D-2             [-1, 577, 768]               0\n",
            "         LayerNorm-3             [-1, 577, 768]           1,536\n",
            "            Linear-4             [-1, 577, 768]         590,592\n",
            "            Linear-5             [-1, 577, 768]         590,592\n",
            "            Linear-6             [-1, 577, 768]         590,592\n",
            "           Dropout-7         [-1, 12, 577, 577]               0\n",
            "MultiHeadedSelfAttention-8             [-1, 577, 768]               0\n",
            "            Linear-9             [-1, 577, 768]         590,592\n",
            "          Dropout-10             [-1, 577, 768]               0\n",
            "        LayerNorm-11             [-1, 577, 768]           1,536\n",
            "           Linear-12            [-1, 577, 3072]       2,362,368\n",
            "           Linear-13             [-1, 577, 768]       2,360,064\n",
            "PositionWiseFeedForward-14             [-1, 577, 768]               0\n",
            "          Dropout-15             [-1, 577, 768]               0\n",
            "            Block-16             [-1, 577, 768]               0\n",
            "        LayerNorm-17             [-1, 577, 768]           1,536\n",
            "           Linear-18             [-1, 577, 768]         590,592\n",
            "           Linear-19             [-1, 577, 768]         590,592\n",
            "           Linear-20             [-1, 577, 768]         590,592\n",
            "          Dropout-21         [-1, 12, 577, 577]               0\n",
            "MultiHeadedSelfAttention-22             [-1, 577, 768]               0\n",
            "           Linear-23             [-1, 577, 768]         590,592\n",
            "          Dropout-24             [-1, 577, 768]               0\n",
            "        LayerNorm-25             [-1, 577, 768]           1,536\n",
            "           Linear-26            [-1, 577, 3072]       2,362,368\n",
            "           Linear-27             [-1, 577, 768]       2,360,064\n",
            "PositionWiseFeedForward-28             [-1, 577, 768]               0\n",
            "          Dropout-29             [-1, 577, 768]               0\n",
            "            Block-30             [-1, 577, 768]               0\n",
            "        LayerNorm-31             [-1, 577, 768]           1,536\n",
            "           Linear-32             [-1, 577, 768]         590,592\n",
            "           Linear-33             [-1, 577, 768]         590,592\n",
            "           Linear-34             [-1, 577, 768]         590,592\n",
            "          Dropout-35         [-1, 12, 577, 577]               0\n",
            "MultiHeadedSelfAttention-36             [-1, 577, 768]               0\n",
            "           Linear-37             [-1, 577, 768]         590,592\n",
            "          Dropout-38             [-1, 577, 768]               0\n",
            "        LayerNorm-39             [-1, 577, 768]           1,536\n",
            "           Linear-40            [-1, 577, 3072]       2,362,368\n",
            "           Linear-41             [-1, 577, 768]       2,360,064\n",
            "PositionWiseFeedForward-42             [-1, 577, 768]               0\n",
            "          Dropout-43             [-1, 577, 768]               0\n",
            "            Block-44             [-1, 577, 768]               0\n",
            "        LayerNorm-45             [-1, 577, 768]           1,536\n",
            "           Linear-46             [-1, 577, 768]         590,592\n",
            "           Linear-47             [-1, 577, 768]         590,592\n",
            "           Linear-48             [-1, 577, 768]         590,592\n",
            "          Dropout-49         [-1, 12, 577, 577]               0\n",
            "MultiHeadedSelfAttention-50             [-1, 577, 768]               0\n",
            "           Linear-51             [-1, 577, 768]         590,592\n",
            "          Dropout-52             [-1, 577, 768]               0\n",
            "        LayerNorm-53             [-1, 577, 768]           1,536\n",
            "           Linear-54            [-1, 577, 3072]       2,362,368\n",
            "           Linear-55             [-1, 577, 768]       2,360,064\n",
            "PositionWiseFeedForward-56             [-1, 577, 768]               0\n",
            "          Dropout-57             [-1, 577, 768]               0\n",
            "            Block-58             [-1, 577, 768]               0\n",
            "        LayerNorm-59             [-1, 577, 768]           1,536\n",
            "           Linear-60             [-1, 577, 768]         590,592\n",
            "           Linear-61             [-1, 577, 768]         590,592\n",
            "           Linear-62             [-1, 577, 768]         590,592\n",
            "          Dropout-63         [-1, 12, 577, 577]               0\n",
            "MultiHeadedSelfAttention-64             [-1, 577, 768]               0\n",
            "           Linear-65             [-1, 577, 768]         590,592\n",
            "          Dropout-66             [-1, 577, 768]               0\n",
            "        LayerNorm-67             [-1, 577, 768]           1,536\n",
            "           Linear-68            [-1, 577, 3072]       2,362,368\n",
            "           Linear-69             [-1, 577, 768]       2,360,064\n",
            "PositionWiseFeedForward-70             [-1, 577, 768]               0\n",
            "          Dropout-71             [-1, 577, 768]               0\n",
            "            Block-72             [-1, 577, 768]               0\n",
            "        LayerNorm-73             [-1, 577, 768]           1,536\n",
            "           Linear-74             [-1, 577, 768]         590,592\n",
            "           Linear-75             [-1, 577, 768]         590,592\n",
            "           Linear-76             [-1, 577, 768]         590,592\n",
            "          Dropout-77         [-1, 12, 577, 577]               0\n",
            "MultiHeadedSelfAttention-78             [-1, 577, 768]               0\n",
            "           Linear-79             [-1, 577, 768]         590,592\n",
            "          Dropout-80             [-1, 577, 768]               0\n",
            "        LayerNorm-81             [-1, 577, 768]           1,536\n",
            "           Linear-82            [-1, 577, 3072]       2,362,368\n",
            "           Linear-83             [-1, 577, 768]       2,360,064\n",
            "PositionWiseFeedForward-84             [-1, 577, 768]               0\n",
            "          Dropout-85             [-1, 577, 768]               0\n",
            "            Block-86             [-1, 577, 768]               0\n",
            "        LayerNorm-87             [-1, 577, 768]           1,536\n",
            "           Linear-88             [-1, 577, 768]         590,592\n",
            "           Linear-89             [-1, 577, 768]         590,592\n",
            "           Linear-90             [-1, 577, 768]         590,592\n",
            "          Dropout-91         [-1, 12, 577, 577]               0\n",
            "MultiHeadedSelfAttention-92             [-1, 577, 768]               0\n",
            "           Linear-93             [-1, 577, 768]         590,592\n",
            "          Dropout-94             [-1, 577, 768]               0\n",
            "        LayerNorm-95             [-1, 577, 768]           1,536\n",
            "           Linear-96            [-1, 577, 3072]       2,362,368\n",
            "           Linear-97             [-1, 577, 768]       2,360,064\n",
            "PositionWiseFeedForward-98             [-1, 577, 768]               0\n",
            "          Dropout-99             [-1, 577, 768]               0\n",
            "           Block-100             [-1, 577, 768]               0\n",
            "       LayerNorm-101             [-1, 577, 768]           1,536\n",
            "          Linear-102             [-1, 577, 768]         590,592\n",
            "          Linear-103             [-1, 577, 768]         590,592\n",
            "          Linear-104             [-1, 577, 768]         590,592\n",
            "         Dropout-105         [-1, 12, 577, 577]               0\n",
            "MultiHeadedSelfAttention-106             [-1, 577, 768]               0\n",
            "          Linear-107             [-1, 577, 768]         590,592\n",
            "         Dropout-108             [-1, 577, 768]               0\n",
            "       LayerNorm-109             [-1, 577, 768]           1,536\n",
            "          Linear-110            [-1, 577, 3072]       2,362,368\n",
            "          Linear-111             [-1, 577, 768]       2,360,064\n",
            "PositionWiseFeedForward-112             [-1, 577, 768]               0\n",
            "         Dropout-113             [-1, 577, 768]               0\n",
            "           Block-114             [-1, 577, 768]               0\n",
            "       LayerNorm-115             [-1, 577, 768]           1,536\n",
            "          Linear-116             [-1, 577, 768]         590,592\n",
            "          Linear-117             [-1, 577, 768]         590,592\n",
            "          Linear-118             [-1, 577, 768]         590,592\n",
            "         Dropout-119         [-1, 12, 577, 577]               0\n",
            "MultiHeadedSelfAttention-120             [-1, 577, 768]               0\n",
            "          Linear-121             [-1, 577, 768]         590,592\n",
            "         Dropout-122             [-1, 577, 768]               0\n",
            "       LayerNorm-123             [-1, 577, 768]           1,536\n",
            "          Linear-124            [-1, 577, 3072]       2,362,368\n",
            "          Linear-125             [-1, 577, 768]       2,360,064\n",
            "PositionWiseFeedForward-126             [-1, 577, 768]               0\n",
            "         Dropout-127             [-1, 577, 768]               0\n",
            "           Block-128             [-1, 577, 768]               0\n",
            "       LayerNorm-129             [-1, 577, 768]           1,536\n",
            "          Linear-130             [-1, 577, 768]         590,592\n",
            "          Linear-131             [-1, 577, 768]         590,592\n",
            "          Linear-132             [-1, 577, 768]         590,592\n",
            "         Dropout-133         [-1, 12, 577, 577]               0\n",
            "MultiHeadedSelfAttention-134             [-1, 577, 768]               0\n",
            "          Linear-135             [-1, 577, 768]         590,592\n",
            "         Dropout-136             [-1, 577, 768]               0\n",
            "       LayerNorm-137             [-1, 577, 768]           1,536\n",
            "          Linear-138            [-1, 577, 3072]       2,362,368\n",
            "          Linear-139             [-1, 577, 768]       2,360,064\n",
            "PositionWiseFeedForward-140             [-1, 577, 768]               0\n",
            "         Dropout-141             [-1, 577, 768]               0\n",
            "           Block-142             [-1, 577, 768]               0\n",
            "       LayerNorm-143             [-1, 577, 768]           1,536\n",
            "          Linear-144             [-1, 577, 768]         590,592\n",
            "          Linear-145             [-1, 577, 768]         590,592\n",
            "          Linear-146             [-1, 577, 768]         590,592\n",
            "         Dropout-147         [-1, 12, 577, 577]               0\n",
            "MultiHeadedSelfAttention-148             [-1, 577, 768]               0\n",
            "          Linear-149             [-1, 577, 768]         590,592\n",
            "         Dropout-150             [-1, 577, 768]               0\n",
            "       LayerNorm-151             [-1, 577, 768]           1,536\n",
            "          Linear-152            [-1, 577, 3072]       2,362,368\n",
            "          Linear-153             [-1, 577, 768]       2,360,064\n",
            "PositionWiseFeedForward-154             [-1, 577, 768]               0\n",
            "         Dropout-155             [-1, 577, 768]               0\n",
            "           Block-156             [-1, 577, 768]               0\n",
            "       LayerNorm-157             [-1, 577, 768]           1,536\n",
            "          Linear-158             [-1, 577, 768]         590,592\n",
            "          Linear-159             [-1, 577, 768]         590,592\n",
            "          Linear-160             [-1, 577, 768]         590,592\n",
            "         Dropout-161         [-1, 12, 577, 577]               0\n",
            "MultiHeadedSelfAttention-162             [-1, 577, 768]               0\n",
            "          Linear-163             [-1, 577, 768]         590,592\n",
            "         Dropout-164             [-1, 577, 768]               0\n",
            "       LayerNorm-165             [-1, 577, 768]           1,536\n",
            "          Linear-166            [-1, 577, 3072]       2,362,368\n",
            "          Linear-167             [-1, 577, 768]       2,360,064\n",
            "PositionWiseFeedForward-168             [-1, 577, 768]               0\n",
            "         Dropout-169             [-1, 577, 768]               0\n",
            "           Block-170             [-1, 577, 768]               0\n",
            "     Transformer-171             [-1, 577, 768]               0\n",
            "       LayerNorm-172             [-1, 577, 768]           1,536\n",
            "          Linear-173                    [-1, 2]           1,538\n",
            "================================================================\n",
            "Total params: 85,648,130\n",
            "Trainable params: 85,648,130\n",
            "Non-trainable params: 0\n",
            "----------------------------------------------------------------\n",
            "Input size (MB): 1.69\n",
            "Forward/backward pass size (MB): 1028.41\n",
            "Params size (MB): 326.72\n",
            "Estimated Total Size (MB): 1356.82\n",
            "----------------------------------------------------------------\n"
          ]
        }
      ]
    },
    {
      "cell_type": "code",
      "source": [
        "loss_func = nn.CrossEntropyLoss()\n",
        "optimizer = optim.SGD(model.parameters(), lr=0.01, momentum=0.9)"
      ],
      "metadata": {
        "id": "jU3sAruW3diZ"
      },
      "execution_count": null,
      "outputs": []
    },
    {
      "cell_type": "code",
      "source": [
        "def train(batch_item, train=True):\n",
        "  imgs, label = batch_item\n",
        "  imgs = Variable(imgs).cuda()\n",
        "  label = Variable(label).cuda()\n",
        "\n",
        "  if train:\n",
        "    model.train()\n",
        "    optimizer.zero_grad()\n",
        "    out = model(imgs)\n",
        "    loss = loss_func(out,label)\n",
        "\n",
        "    loss.backward()\n",
        "    optimizer.step()\n",
        "  else:\n",
        "    model.eval()\n",
        "    with torch.no_grad():\n",
        "      out = model(imgs)\n",
        "      loss = loss_func(out,label)\n",
        "\n",
        "  return loss"
      ],
      "metadata": {
        "id": "k3dSVfuc4YWF"
      },
      "execution_count": null,
      "outputs": []
    },
    {
      "cell_type": "code",
      "source": [
        "torch.cuda.ipc_collect()\n",
        "torch.cuda.empty_cache()"
      ],
      "metadata": {
        "id": "oGMVQjag7D39"
      },
      "execution_count": null,
      "outputs": []
    },
    {
      "cell_type": "code",
      "source": [
        "loss_plot, test_loss_plot = [], []"
      ],
      "metadata": {
        "id": "wtrdAKW85I4r"
      },
      "execution_count": null,
      "outputs": []
    },
    {
      "cell_type": "code",
      "source": [
        "epoch = 25\n",
        "for e in range(epoch):\n",
        "  tqdm_dataset = tqdm(enumerate(train_loader))\n",
        "  total_loss, test_loss = 0.0,0.0\n",
        "\n",
        "  ##############train##############\n",
        "  for i,batch_item in tqdm_dataset:\n",
        "    batch_loss = train(batch_item, True)\n",
        "    total_loss += batch_loss\n",
        "    tqdm_dataset.set_postfix({\n",
        "        'Epoch':e+1,\n",
        "        'Loss': '%.6f'%batch_loss.item(),\n",
        "        'Total Loss': '%.6f'%(total_loss/(i+1))\n",
        "    })\n",
        "  loss_plot.append(total_loss/(i+1))\n",
        "  \n",
        "  ##############test##############\n",
        "  tqdm_dataset = tqdm(enumerate(test_loader))\n",
        "  for i,batch_item in tqdm_dataset:\n",
        "    batch_loss = train(batch_item, False)\n",
        "    test_loss += batch_loss\n",
        "    tqdm_dataset.set_postfix({\n",
        "        'Epoch':e+1,\n",
        "        'Loss': '%.6f'%batch_loss.item(),\n",
        "        'Test Loss': '%.6f'%(test_loss/(i+1))\n",
        "    })\n",
        "  test_loss_plot.append(test_loss/(i+1))\n"
      ],
      "metadata": {
        "colab": {
          "base_uri": "https://localhost:8080/"
        },
        "id": "kf_4-eJ95HZZ",
        "outputId": "0132071b-764a-4fc7-8fc8-88aa4af463da"
      },
      "execution_count": null,
      "outputs": [
        {
          "output_type": "stream",
          "name": "stderr",
          "text": [
            "/usr/local/lib/python3.7/dist-packages/torch/utils/data/dataloader.py:481: UserWarning: This DataLoader will create 4 worker processes in total. Our suggested max number of worker in current system is 2, which is smaller than what this DataLoader is going to create. Please be aware that excessive worker creation might get DataLoader running slow or even freeze, lower the worker number to avoid potential slowness/freeze if necessary.\n",
            "  cpuset_checked))\n",
            "29it [00:49,  1.69s/it, Epoch=1, Loss=0.701872, Total Loss=0.944802]\n",
            "2it [00:01,  1.54it/s, Epoch=1, Loss=0.457001, Test Loss=0.455122]\n",
            "29it [00:49,  1.70s/it, Epoch=2, Loss=1.237960, Total Loss=0.754843]\n",
            "2it [00:01,  1.53it/s, Epoch=2, Loss=0.806900, Test Loss=0.796568]\n",
            "29it [00:49,  1.70s/it, Epoch=3, Loss=0.466313, Total Loss=0.793247]\n",
            "2it [00:01,  1.50it/s, Epoch=3, Loss=0.690854, Test Loss=0.644921]\n",
            "29it [00:49,  1.70s/it, Epoch=4, Loss=0.736593, Total Loss=0.656947]\n",
            "2it [00:01,  1.51it/s, Epoch=4, Loss=1.794335, Test Loss=1.561025]\n",
            "29it [00:49,  1.70s/it, Epoch=5, Loss=0.971184, Total Loss=0.636647]\n",
            "2it [00:01,  1.52it/s, Epoch=5, Loss=0.480566, Test Loss=0.435702]\n",
            "29it [00:49,  1.70s/it, Epoch=6, Loss=0.325016, Total Loss=0.460242]\n",
            "2it [00:01,  1.54it/s, Epoch=6, Loss=0.531702, Test Loss=0.417435]\n",
            "29it [00:49,  1.70s/it, Epoch=7, Loss=0.748713, Total Loss=0.452457]\n",
            "2it [00:01,  1.53it/s, Epoch=7, Loss=1.072970, Test Loss=0.741133]\n",
            "29it [00:49,  1.70s/it, Epoch=8, Loss=0.269554, Total Loss=0.418460]\n",
            "2it [00:01,  1.52it/s, Epoch=8, Loss=0.120648, Test Loss=0.093643]\n",
            "29it [00:49,  1.70s/it, Epoch=9, Loss=0.366534, Total Loss=0.509128]\n",
            "2it [00:01,  1.51it/s, Epoch=9, Loss=0.671560, Test Loss=0.531302]\n",
            "29it [00:49,  1.70s/it, Epoch=10, Loss=0.261789, Total Loss=0.365278]\n",
            "2it [00:01,  1.51it/s, Epoch=10, Loss=0.385754, Test Loss=0.379133]\n",
            "29it [00:49,  1.70s/it, Epoch=11, Loss=0.741828, Total Loss=0.329788]\n",
            "2it [00:01,  1.52it/s, Epoch=11, Loss=0.286312, Test Loss=0.209630]\n",
            "29it [00:49,  1.69s/it, Epoch=12, Loss=0.091063, Total Loss=0.333841]\n",
            "2it [00:01,  1.53it/s, Epoch=12, Loss=0.249349, Test Loss=0.168516]\n",
            "29it [00:49,  1.69s/it, Epoch=13, Loss=0.327752, Total Loss=0.234660]\n",
            "2it [00:01,  1.52it/s, Epoch=13, Loss=1.074821, Test Loss=0.828443]\n",
            "29it [00:49,  1.69s/it, Epoch=14, Loss=0.217234, Total Loss=0.362581]\n",
            "2it [00:01,  1.53it/s, Epoch=14, Loss=0.405897, Test Loss=0.256831]\n",
            "29it [00:49,  1.70s/it, Epoch=15, Loss=0.430993, Total Loss=0.202316]\n",
            "2it [00:01,  1.51it/s, Epoch=15, Loss=0.304221, Test Loss=0.178627]\n",
            "29it [00:49,  1.70s/it, Epoch=16, Loss=0.035606, Total Loss=0.186869]\n",
            "2it [00:01,  1.52it/s, Epoch=16, Loss=0.815749, Test Loss=0.449428]\n",
            "29it [00:49,  1.69s/it, Epoch=17, Loss=0.337490, Total Loss=0.217293]\n",
            "2it [00:01,  1.53it/s, Epoch=17, Loss=0.997638, Test Loss=0.657552]\n",
            "29it [00:49,  1.70s/it, Epoch=18, Loss=0.053797, Total Loss=0.123518]\n",
            "2it [00:01,  1.51it/s, Epoch=18, Loss=0.157203, Test Loss=0.103167]\n",
            "29it [00:49,  1.70s/it, Epoch=19, Loss=0.142051, Total Loss=0.233619]\n",
            "2it [00:01,  1.51it/s, Epoch=19, Loss=0.290878, Test Loss=0.182787]\n",
            "29it [00:49,  1.70s/it, Epoch=20, Loss=0.136726, Total Loss=0.138213]\n",
            "2it [00:01,  1.53it/s, Epoch=20, Loss=1.407784, Test Loss=0.764487]\n",
            "29it [00:49,  1.70s/it, Epoch=21, Loss=0.130848, Total Loss=0.093385]\n",
            "2it [00:01,  1.51it/s, Epoch=21, Loss=0.775835, Test Loss=1.070699]\n",
            "29it [00:49,  1.70s/it, Epoch=22, Loss=0.438339, Total Loss=0.140481]\n",
            "2it [00:01,  1.48it/s, Epoch=22, Loss=1.863051, Test Loss=0.996240]\n",
            "29it [00:49,  1.70s/it, Epoch=23, Loss=0.024003, Total Loss=0.096834]\n",
            "2it [00:01,  1.50it/s, Epoch=23, Loss=1.188982, Test Loss=0.612009]\n",
            "29it [00:49,  1.70s/it, Epoch=24, Loss=0.000037, Total Loss=0.002061]\n",
            "2it [00:01,  1.50it/s, Epoch=24, Loss=1.394619, Test Loss=0.699389]\n",
            "29it [00:49,  1.70s/it, Epoch=25, Loss=0.000541, Total Loss=0.046631]\n",
            "2it [00:01,  1.53it/s, Epoch=25, Loss=0.006415, Test Loss=0.003523]\n"
          ]
        }
      ]
    },
    {
      "cell_type": "code",
      "source": [
        "plt.figure(figsize=(20,10))\n",
        "plt.plot(loss_plot,'b')\n",
        "plt.plot(test_loss_plot,'g')\n",
        "plt.legend(('train_loss', 'test_loss'),loc='upper right')\n",
        "plt.title('loss')\n",
        "plt.xlabel('epoch')\n",
        "plt.ylabel('loss')\n",
        "plt.show()"
      ],
      "metadata": {
        "colab": {
          "base_uri": "https://localhost:8080/",
          "height": 451
        },
        "id": "_2cTKFfuA9Nb",
        "outputId": "ac0bf5b9-837d-44bc-8767-6c59ac129e75"
      },
      "execution_count": null,
      "outputs": [
        {
          "output_type": "display_data",
          "data": {
            "image/png": "[encoded data removed]",
            "text/plain": [
              "<Figure size 1440x720 with 1 Axes>"
            ]
          },
          "metadata": {
            "needs_background": "light"
          }
        }
      ]
    },
    {
      "cell_type": "code",
      "source": [
        "model.eval()\n",
        "with torch.no_grad():\n",
        "  test_items = list(test_loader)[0]\n",
        "  test_images = Variable(test_items[0]).cuda()\n",
        "  test_labels = test_items[1]\n",
        "  \n",
        "  output = model(test_images)\n",
        "  prob = F.softmax(output,dim=-1)\n",
        "  idx = torch.argmax(prob,dim=-1)\n",
        "  print(prob)\n",
        "  print(idx)\n",
        "  print(test_labels)\n",
        "  acc = (test_labels == idx.cpu()).sum() / test_labels.shape[0]\n",
        "  print('acc: ',acc.item()* 100)"
      ],
      "metadata": {
        "colab": {
          "base_uri": "https://localhost:8080/"
        },
        "id": "k4nQtMSrxRU4",
        "outputId": "38aa5782-79f3-447a-dbbb-dffcab837b9a"
      },
      "execution_count": null,
      "outputs": [
        {
          "output_type": "stream",
          "name": "stderr",
          "text": [
            "/usr/local/lib/python3.7/dist-packages/torch/utils/data/dataloader.py:481: UserWarning: This DataLoader will create 4 worker processes in total. Our suggested max number of worker in current system is 2, which is smaller than what this DataLoader is going to create. Please be aware that excessive worker creation might get DataLoader running slow or even freeze, lower the worker number to avoid potential slowness/freeze if necessary.\n",
            "  cpuset_checked))\n"
          ]
        },
        {
          "output_type": "stream",
          "name": "stdout",
          "text": [
            "tensor([[3.4440e-05, 9.9997e-01],\n",
            "        [1.9289e-06, 1.0000e+00],\n",
            "        [1.2342e-03, 9.9877e-01],\n",
            "        [3.3329e-03, 9.9667e-01],\n",
            "        [2.2525e-05, 9.9998e-01],\n",
            "        [6.5834e-05, 9.9993e-01],\n",
            "        [4.9141e-06, 1.0000e+00],\n",
            "        [3.4788e-04, 9.9965e-01]], device='cuda:0')\n",
            "tensor([1, 1, 1, 1, 1, 1, 1, 1], device='cuda:0')\n",
            "tensor([1, 1, 1, 1, 1, 1, 1, 1])\n",
            "acc:  100.0\n"
          ]
        }
      ]
    }
  ]
}